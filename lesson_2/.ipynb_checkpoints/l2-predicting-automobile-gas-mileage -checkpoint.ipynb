{
 "cells": [
  {
   "cell_type": "markdown",
   "metadata": {},
   "source": [
    "# Connect Intensive - Machine Learning Nanodegree\n",
    "# Lesson 2: Predicting Automobile Gas Mileage \n",
    "\n",
    "## Objectives\n",
    "  - Use [Numpy](https://docs.scipy.org/doc/numpy/reference/routines.statistics.html) to compute statistics  \n",
    "  - Split a dataset into training and testing sets using scikit-learn's [train_test_split](http://scikit-learn.org/stable/modules/generated/sklearn.model_selection.train_test_split.html) \n",
    "  - Build a [decision tree regressor](http://scikit-learn.org/stable/modules/generated/sklearn.tree.DecisionTreeRegressor.html) model using scikit-learn\n",
    "  \n",
    "\n",
    "\n"
   ]
  },
  {
   "cell_type": "markdown",
   "metadata": {},
   "source": [
    "## Background\n",
    "\n",
    "The purpose of this project is to use a decision tree regressor to predict automobile gas mileage. The dataset was obtained from the [UCI Machine Learning Repository](https://archive.ics.uci.edu/ml/datasets/Auto+MPG).\n",
    "\n",
    "\n",
    " **Target variable** \n",
    " - mpg: The vehicle’s gas mileage \n",
    " \n",
    "**Predictor variables**\n",
    " - displacement: The vehicle’s engine displacement\n",
    " - horsepower: The vehicle’s horsepower\n",
    " - weight: The vehicle’s weight\n",
    "\n",
    "\n",
    "\n"
   ]
  },
  {
   "cell_type": "markdown",
   "metadata": {},
   "source": [
    "##  Import the necessary libraries and dataset"
   ]
  },
  {
   "cell_type": "code",
   "execution_count": 46,
   "metadata": {
    "collapsed": false
   },
   "outputs": [
    {
     "name": "stdout",
     "output_type": "stream",
     "text": [
      "Rows: 392 Columns: 4 \n"
     ]
    }
   ],
   "source": [
    "import numpy as np\n",
    "import pandas as pd\n",
    "from sklearn.cross_validation import ShuffleSplit\n",
    "\n",
    "car_data = pd.read_csv('car_mpg_data.csv')\n",
    "mpg = car_data['mpg']\n",
    "predictor_variables = car_data.drop('mpg', axis = 1)\n",
    "    \n",
    "print \"Rows: {} Columns: {} \".format(*car_data.shape)"
   ]
  },
  {
   "cell_type": "markdown",
   "metadata": {},
   "source": [
    "##  Use Numpy to learn more about the dataset by calculating basic statistics "
   ]
  },
  {
   "cell_type": "code",
   "execution_count": 47,
   "metadata": {
    "collapsed": false,
    "scrolled": true
   },
   "outputs": [
    {
     "name": "stdout",
     "output_type": "stream",
     "text": [
      "Minimum MPG:9\n",
      "Maximum MPG:47\n",
      "Mean MPG:23\n",
      "Median MPG: 23\n",
      "MPG standard deviation:8\n"
     ]
    }
   ],
   "source": [
    "min = np.min(mpg)\n",
    "max = np.max(mpg)\n",
    "mean = np.mean(mpg)\n",
    "median = np.median(mpg)\n",
    "std = np.std(mpg)\n",
    "\n",
    "print \"Minimum MPG:{:,.0f}\".format(min)\n",
    "print \"Maximum MPG:{:,.0f}\".format(max)\n",
    "print \"Mean MPG:{:,.0f}\".format(mean)\n",
    "print \"Median MPG: {:,.0f}\".format(median)\n",
    "print \"MPG standard deviation:{:,.0f}\".format(std)"
   ]
  },
  {
   "cell_type": "markdown",
   "metadata": {},
   "source": [
    "## Import the r2_score function for evaluating the model\n"
   ]
  },
  {
   "cell_type": "code",
   "execution_count": 48,
   "metadata": {
    "collapsed": false
   },
   "outputs": [],
   "source": [
    "from sklearn.metrics import r2_score \n",
    "\n",
    "def performance_metric(y_true, y_predict):\n",
    "    \n",
    "    score = r2_score(y_true, y_predict)\n",
    "    \n",
    "    return score"
   ]
  },
  {
   "cell_type": "markdown",
   "metadata": {},
   "source": [
    "## Import the train_test_split function for dividing the dataset into training and testing sets"
   ]
  },
  {
   "cell_type": "code",
   "execution_count": 49,
   "metadata": {
    "collapsed": false,
    "scrolled": false
   },
   "outputs": [
    {
     "name": "stdout",
     "output_type": "stream",
     "text": [
      "X_train: rows:  294,  columns: 3\n",
      "X_test:  rows:  98,  columns: 3\n",
      "y_train: rows:  294,  columns: 1\n",
      "y_test:  rows:  98,  columns: 1\n"
     ]
    }
   ],
   "source": [
    "from sklearn.model_selection import train_test_split\n",
    "\n",
    "X_train, X_test, y_train, y_test = train_test_split(predictor_variables, mpg, test_size=0.25, random_state=42)\n",
    "\n",
    "print \"X_train: rows:  {},  columns: {}\".format(*X_train.shape)\n",
    "print \"X_test:  rows:  {},  columns: {}\".format(*X_test.shape)\n",
    "print \"y_train: rows:  {},  columns: 1\".format(*y_train.shape)\n",
    "print \"y_test:  rows:  {},  columns: 1\".format(*y_test.shape)"
   ]
  },
  {
   "cell_type": "markdown",
   "metadata": {},
   "source": [
    "## Use the grid search technique to train the decision tree algorithm "
   ]
  },
  {
   "cell_type": "code",
   "execution_count": 50,
   "metadata": {
    "collapsed": false
   },
   "outputs": [],
   "source": [
    "# TODO: Import 'make_scorer', 'DecisionTreeRegressor', and 'GridSearchCV'\n",
    "from sklearn.metrics import make_scorer\n",
    "from sklearn.model_selection import GridSearchCV\n",
    "from sklearn.tree import DecisionTreeRegressor\n",
    "\n",
    "def fit_model(X, y):\n",
    "    \n",
    "    \n",
    "    cross_validation_sets = ShuffleSplit(X.shape[0], n_iter = 5, test_size = 0.25, random_state = 1)\n",
    "\n",
    "    reg_model = DecisionTreeRegressor()\n",
    "\n",
    "    max_depth = {'max_depth': range(1,11)}\n",
    "   \n",
    "    # greater_is_better will look for the highest r2\n",
    "    scorer = make_scorer(performance_metric, greater_is_better = True)\n",
    "    \n",
    "\n",
    "    \n",
    "    grid = GridSearchCV(reg_model, param_grid=max_depth, scoring=scorer, cv=cross_validation_sets)\n",
    "\n",
    "    grid = grid.fit(X, y)\n",
    "  \n",
    "    return grid.best_estimator_"
   ]
  },
  {
   "cell_type": "markdown",
   "metadata": {},
   "source": [
    "## Fit the model to the training data"
   ]
  },
  {
   "cell_type": "code",
   "execution_count": 51,
   "metadata": {
    "collapsed": false,
    "scrolled": true
   },
   "outputs": [],
   "source": [
    "reg = fit_model(X_train, y_train)"
   ]
  },
  {
   "cell_type": "code",
   "execution_count": 52,
   "metadata": {
    "collapsed": false
   },
   "outputs": [
    {
     "name": "stdout",
     "output_type": "stream",
     "text": [
      "    mpg  displacement  horsepower  weight\n",
      "0  18.0         307.0         130    3504\n",
      "1  15.0         350.0         165    3693\n",
      "2  18.0         318.0         150    3436\n",
      "3  16.0         304.0         150    3433\n",
      "4  17.0         302.0         140    3449\n"
     ]
    },
    {
     "data": {
      "text/plain": [
       "392"
      ]
     },
     "execution_count": 52,
     "metadata": {},
     "output_type": "execute_result"
    }
   ],
   "source": [
    "print car_data.head()\n",
    "len(car_data.index)"
   ]
  },
  {
   "cell_type": "markdown",
   "metadata": {},
   "source": [
    "## Make predictions using the model"
   ]
  },
  {
   "cell_type": "code",
   "execution_count": 53,
   "metadata": {
    "collapsed": false
   },
   "outputs": [
    {
     "name": "stdout",
     "output_type": "stream",
     "text": [
      "Car 1's predicted MPG: 30\n",
      "Car 2's predicted MPG: 25\n",
      "Car 3's predicted MPG: 34\n",
      "Car 4's predicted MPG: 34\n",
      "Car 5's predicted MPG: 25\n",
      "Car 6's predicted MPG: 30\n",
      "Car 7's predicted MPG: 13\n",
      "Car 8's predicted MPG: 30\n",
      "Car 9's predicted MPG: 19\n",
      "Car 10's predicted MPG: 34\n",
      "Car 11's predicted MPG: 15\n",
      "Car 12's predicted MPG: 25\n",
      "Car 13's predicted MPG: 13\n",
      "Car 14's predicted MPG: 30\n",
      "Car 15's predicted MPG: 19\n",
      "Car 16's predicted MPG: 25\n",
      "Car 17's predicted MPG: 19\n",
      "Car 18's predicted MPG: 30\n",
      "Car 19's predicted MPG: 30\n",
      "Car 20's predicted MPG: 25\n",
      "Car 21's predicted MPG: 25\n",
      "Car 22's predicted MPG: 34\n",
      "Car 23's predicted MPG: 34\n",
      "Car 24's predicted MPG: 15\n",
      "Car 25's predicted MPG: 34\n",
      "Car 26's predicted MPG: 25\n",
      "Car 27's predicted MPG: 25\n",
      "Car 28's predicted MPG: 19\n",
      "Car 29's predicted MPG: 34\n",
      "Car 30's predicted MPG: 30\n",
      "Car 31's predicted MPG: 13\n",
      "Car 32's predicted MPG: 19\n",
      "Car 33's predicted MPG: 25\n",
      "Car 34's predicted MPG: 30\n",
      "Car 35's predicted MPG: 13\n",
      "Car 36's predicted MPG: 34\n",
      "Car 37's predicted MPG: 13\n",
      "Car 38's predicted MPG: 34\n",
      "Car 39's predicted MPG: 15\n",
      "Car 40's predicted MPG: 13\n",
      "Car 41's predicted MPG: 15\n",
      "Car 42's predicted MPG: 34\n",
      "Car 43's predicted MPG: 34\n",
      "Car 44's predicted MPG: 30\n",
      "Car 45's predicted MPG: 13\n",
      "Car 46's predicted MPG: 13\n",
      "Car 47's predicted MPG: 19\n",
      "Car 48's predicted MPG: 34\n",
      "Car 49's predicted MPG: 30\n",
      "Car 50's predicted MPG: 34\n",
      "Car 51's predicted MPG: 15\n",
      "Car 52's predicted MPG: 25\n",
      "Car 53's predicted MPG: 25\n",
      "Car 54's predicted MPG: 25\n",
      "Car 55's predicted MPG: 19\n",
      "Car 56's predicted MPG: 19\n",
      "Car 57's predicted MPG: 25\n",
      "Car 58's predicted MPG: 19\n",
      "Car 59's predicted MPG: 25\n",
      "Car 60's predicted MPG: 25\n",
      "Car 61's predicted MPG: 13\n",
      "Car 62's predicted MPG: 19\n",
      "Car 63's predicted MPG: 25\n",
      "Car 64's predicted MPG: 25\n",
      "Car 65's predicted MPG: 25\n",
      "Car 66's predicted MPG: 30\n",
      "Car 67's predicted MPG: 25\n",
      "Car 68's predicted MPG: 34\n",
      "Car 69's predicted MPG: 25\n",
      "Car 70's predicted MPG: 15\n",
      "Car 71's predicted MPG: 30\n",
      "Car 72's predicted MPG: 15\n",
      "Car 73's predicted MPG: 25\n",
      "Car 74's predicted MPG: 25\n",
      "Car 75's predicted MPG: 19\n",
      "Car 76's predicted MPG: 30\n",
      "Car 77's predicted MPG: 15\n",
      "Car 78's predicted MPG: 15\n",
      "Car 79's predicted MPG: 25\n",
      "Car 80's predicted MPG: 19\n",
      "Car 81's predicted MPG: 25\n",
      "Car 82's predicted MPG: 25\n",
      "Car 83's predicted MPG: 15\n",
      "Car 84's predicted MPG: 34\n",
      "Car 85's predicted MPG: 15\n",
      "Car 86's predicted MPG: 34\n",
      "Car 87's predicted MPG: 25\n",
      "Car 88's predicted MPG: 19\n",
      "Car 89's predicted MPG: 25\n",
      "Car 90's predicted MPG: 19\n",
      "Car 91's predicted MPG: 25\n",
      "Car 92's predicted MPG: 30\n",
      "Car 93's predicted MPG: 34\n",
      "Car 94's predicted MPG: 25\n",
      "Car 95's predicted MPG: 19\n",
      "Car 96's predicted MPG: 19\n",
      "Car 97's predicted MPG: 25\n",
      "Car 98's predicted MPG: 13\n"
     ]
    }
   ],
   "source": [
    "car_specs = [[302,140 ,3450 ], [350, 165, 3690 ]] \n",
    "                               \n",
    "for i, mpg in enumerate(reg.predict(X_test)):\n",
    "    print \"Car {}'s predicted MPG: {:,.0f}\".format(i+1, mpg)\n",
    "\n",
    "pred = reg.predict(X_test)"
   ]
  },
  {
   "cell_type": "code",
   "execution_count": 54,
   "metadata": {
    "collapsed": false
   },
   "outputs": [],
   "source": [
    "accuracy = reg.score(X_test, y_test)"
   ]
  },
  {
   "cell_type": "code",
   "execution_count": 55,
   "metadata": {
    "collapsed": false
   },
   "outputs": [
    {
     "name": "stdout",
     "output_type": "stream",
     "text": [
      "0.639407328253\n"
     ]
    }
   ],
   "source": [
    "print accuracy"
   ]
  },
  {
   "cell_type": "code",
   "execution_count": null,
   "metadata": {
    "collapsed": true
   },
   "outputs": [],
   "source": []
  }
 ],
 "metadata": {
  "anaconda-cloud": {},
  "kernelspec": {
   "display_name": "Python [default]",
   "language": "python",
   "name": "python2"
  },
  "language_info": {
   "codemirror_mode": {
    "name": "ipython",
    "version": 2
   },
   "file_extension": ".py",
   "mimetype": "text/x-python",
   "name": "python",
   "nbconvert_exporter": "python",
   "pygments_lexer": "ipython2",
   "version": "2.7.13"
  }
 },
 "nbformat": 4,
 "nbformat_minor": 0
}
