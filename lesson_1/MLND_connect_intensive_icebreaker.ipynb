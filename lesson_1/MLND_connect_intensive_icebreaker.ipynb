{
 "cells": [
  {
   "cell_type": "markdown",
   "metadata": {},
   "source": [
    "## Icebreaker: Using a decision tree to predict the type of computer a student owns."
   ]
  },
  {
   "cell_type": "markdown",
   "metadata": {},
   "source": [
    "## Importing libraries "
   ]
  },
  {
   "cell_type": "code",
   "execution_count": 11,
   "metadata": {
    "collapsed": false,
    "scrolled": false
   },
   "outputs": [],
   "source": [
    "from sklearn import tree\n",
    "import numpy as np\n",
    "import pandas as pd \n",
    "\n",
    "from IPython.display import display, Image\n"
   ]
  },
  {
   "cell_type": "markdown",
   "metadata": {},
   "source": [
    "## Importing dataset"
   ]
  },
  {
   "cell_type": "code",
   "execution_count": 12,
   "metadata": {
    "collapsed": false
   },
   "outputs": [
    {
     "name": "stdout",
     "output_type": "stream",
     "text": [
      "Number of students: 2\n"
     ]
    },
    {
     "data": {
      "text/html": [
       "<div>\n",
       "<table border=\"1\" class=\"dataframe\">\n",
       "  <thead>\n",
       "    <tr style=\"text-align: right;\">\n",
       "      <th></th>\n",
       "      <th>Timestamp</th>\n",
       "      <th>name</th>\n",
       "      <th>why_nanodegree</th>\n",
       "      <th>something_interesting</th>\n",
       "      <th>price</th>\n",
       "      <th>configurations</th>\n",
       "      <th>gaming</th>\n",
       "      <th>security</th>\n",
       "      <th>designing</th>\n",
       "      <th>type_of_computer</th>\n",
       "    </tr>\n",
       "  </thead>\n",
       "  <tbody>\n",
       "    <tr>\n",
       "      <th>0</th>\n",
       "      <td>2/10/2017 22:31:09</td>\n",
       "      <td>sdf</td>\n",
       "      <td>dg</td>\n",
       "      <td>sdg</td>\n",
       "      <td>1</td>\n",
       "      <td>1</td>\n",
       "      <td>2</td>\n",
       "      <td>2</td>\n",
       "      <td>1</td>\n",
       "      <td>mac</td>\n",
       "    </tr>\n",
       "    <tr>\n",
       "      <th>1</th>\n",
       "      <td>2/10/2017 22:31:24</td>\n",
       "      <td>xcv</td>\n",
       "      <td>xz</td>\n",
       "      <td>xcv</td>\n",
       "      <td>1</td>\n",
       "      <td>2</td>\n",
       "      <td>2</td>\n",
       "      <td>1</td>\n",
       "      <td>1</td>\n",
       "      <td>mac</td>\n",
       "    </tr>\n",
       "  </tbody>\n",
       "</table>\n",
       "</div>"
      ],
      "text/plain": [
       "            Timestamp name why_nanodegree something_interesting  price  \\\n",
       "0  2/10/2017 22:31:09  sdf             dg                   sdg      1   \n",
       "1  2/10/2017 22:31:24  xcv             xz                   xcv      1   \n",
       "\n",
       "   configurations  gaming   security  designing type_of_computer  \n",
       "0               1        2         2          1              mac  \n",
       "1               2        2         1          1              mac  "
      ]
     },
     "metadata": {},
     "output_type": "display_data"
    }
   ],
   "source": [
    "\n",
    "in_file = 'students.csv'\n",
    "students = pd.read_csv(in_file)\n",
    "\n",
    "print(\"Number of students: {}\".format(len(students)))\n",
    "\n",
    "display(students.head(5))\n"
   ]
  },
  {
   "cell_type": "markdown",
   "metadata": {},
   "source": [
    "## Separating test dataset"
   ]
  },
  {
   "cell_type": "code",
   "execution_count": 31,
   "metadata": {
    "collapsed": false
   },
   "outputs": [
    {
     "name": "stdout",
     "output_type": "stream",
     "text": [
      "Training dataset size:1\n"
     ]
    },
    {
     "data": {
      "text/html": [
       "<div>\n",
       "<table border=\"1\" class=\"dataframe\">\n",
       "  <thead>\n",
       "    <tr style=\"text-align: right;\">\n",
       "      <th></th>\n",
       "      <th>Timestamp</th>\n",
       "      <th>name</th>\n",
       "      <th>why_nanodegree</th>\n",
       "      <th>something_interesting</th>\n",
       "      <th>price</th>\n",
       "      <th>configurations</th>\n",
       "      <th>gaming</th>\n",
       "      <th>security</th>\n",
       "      <th>designing</th>\n",
       "      <th>type_of_computer</th>\n",
       "    </tr>\n",
       "  </thead>\n",
       "  <tbody>\n",
       "    <tr>\n",
       "      <th>1</th>\n",
       "      <td>2/10/2017 22:31:24</td>\n",
       "      <td>xcv</td>\n",
       "      <td>xz</td>\n",
       "      <td>xcv</td>\n",
       "      <td>1</td>\n",
       "      <td>2</td>\n",
       "      <td>2</td>\n",
       "      <td>1</td>\n",
       "      <td>1</td>\n",
       "      <td>mac</td>\n",
       "    </tr>\n",
       "  </tbody>\n",
       "</table>\n",
       "</div>"
      ],
      "text/plain": [
       "            Timestamp name why_nanodegree something_interesting  price  \\\n",
       "1  2/10/2017 22:31:24  xcv             xz                   xcv      1   \n",
       "\n",
       "   configurations  gaming   security  designing type_of_computer  \n",
       "1               2        2         1          1              mac  "
      ]
     },
     "metadata": {},
     "output_type": "display_data"
    },
    {
     "name": "stdout",
     "output_type": "stream",
     "text": [
      "Testing dataset size:1\n"
     ]
    },
    {
     "data": {
      "text/html": [
       "<div>\n",
       "<table border=\"1\" class=\"dataframe\">\n",
       "  <thead>\n",
       "    <tr style=\"text-align: right;\">\n",
       "      <th></th>\n",
       "      <th>Timestamp</th>\n",
       "      <th>name</th>\n",
       "      <th>why_nanodegree</th>\n",
       "      <th>something_interesting</th>\n",
       "      <th>price</th>\n",
       "      <th>configurations</th>\n",
       "      <th>gaming</th>\n",
       "      <th>security</th>\n",
       "      <th>designing</th>\n",
       "      <th>type_of_computer</th>\n",
       "    </tr>\n",
       "  </thead>\n",
       "  <tbody>\n",
       "    <tr>\n",
       "      <th>0</th>\n",
       "      <td>2/10/2017 22:31:09</td>\n",
       "      <td>sdf</td>\n",
       "      <td>dg</td>\n",
       "      <td>sdg</td>\n",
       "      <td>1</td>\n",
       "      <td>1</td>\n",
       "      <td>2</td>\n",
       "      <td>2</td>\n",
       "      <td>1</td>\n",
       "      <td>mac</td>\n",
       "    </tr>\n",
       "  </tbody>\n",
       "</table>\n",
       "</div>"
      ],
      "text/plain": [
       "            Timestamp name why_nanodegree something_interesting  price  \\\n",
       "0  2/10/2017 22:31:09  sdf             dg                   sdg      1   \n",
       "\n",
       "   configurations  gaming   security  designing type_of_computer  \n",
       "0               1        2         2          1              mac  "
      ]
     },
     "metadata": {},
     "output_type": "display_data"
    }
   ],
   "source": [
    "train_data = students[(students.name != 'ryan') & (students.name != 'tom') & (students.name != 'sara')]\n",
    "test_data = students[(students.name == 'ryan') | (students.name == 'tom') | (students.name == 'sara')]\n",
    "\n",
    "print(\"Training dataset size:{}\".format(len(train_data)))\n",
    "display(train_data.head(1))\n",
    "\n",
    "print(\"Testing dataset size:{}\".format(len(test_data)))\n",
    "display(test_data.head(1))"
   ]
  },
  {
   "cell_type": "markdown",
   "metadata": {},
   "source": [
    "## Remove columns"
   ]
  },
  {
   "cell_type": "code",
   "execution_count": 32,
   "metadata": {
    "collapsed": false
   },
   "outputs": [
    {
     "data": {
      "text/html": [
       "<div>\n",
       "<table border=\"1\" class=\"dataframe\">\n",
       "  <thead>\n",
       "    <tr style=\"text-align: right;\">\n",
       "      <th></th>\n",
       "      <th>price</th>\n",
       "      <th>configurations</th>\n",
       "      <th>gaming</th>\n",
       "      <th>security</th>\n",
       "      <th>designing</th>\n",
       "      <th>type_of_computer</th>\n",
       "    </tr>\n",
       "  </thead>\n",
       "  <tbody>\n",
       "    <tr>\n",
       "      <th>1</th>\n",
       "      <td>1</td>\n",
       "      <td>2</td>\n",
       "      <td>2</td>\n",
       "      <td>1</td>\n",
       "      <td>1</td>\n",
       "      <td>mac</td>\n",
       "    </tr>\n",
       "  </tbody>\n",
       "</table>\n",
       "</div>"
      ],
      "text/plain": [
       "   price  configurations  gaming   security  designing type_of_computer\n",
       "1      1               2        2         1          1              mac"
      ]
     },
     "metadata": {},
     "output_type": "display_data"
    }
   ],
   "source": [
    "\n",
    "train_data = train_data.drop(['Timestamp', 'name','why_nanodegree','something_interesting'], axis=1)\n",
    "\n",
    "display(train_data.head(5))\n"
   ]
  },
  {
   "cell_type": "markdown",
   "metadata": {},
   "source": [
    "## Separating the target variable - training data"
   ]
  },
  {
   "cell_type": "code",
   "execution_count": 33,
   "metadata": {
    "collapsed": false,
    "scrolled": true
   },
   "outputs": [
    {
     "name": "stdout",
     "output_type": "stream",
     "text": [
      "Target dataset size:1\n"
     ]
    },
    {
     "data": {
      "text/plain": [
       "1    mac\n",
       "Name: type_of_computer, dtype: object"
      ]
     },
     "metadata": {},
     "output_type": "display_data"
    },
    {
     "name": "stdout",
     "output_type": "stream",
     "text": [
      "\n",
      "Predictor dataset size:1\n"
     ]
    },
    {
     "data": {
      "text/html": [
       "<div>\n",
       "<table border=\"1\" class=\"dataframe\">\n",
       "  <thead>\n",
       "    <tr style=\"text-align: right;\">\n",
       "      <th></th>\n",
       "      <th>price</th>\n",
       "      <th>configurations</th>\n",
       "      <th>gaming</th>\n",
       "      <th>security</th>\n",
       "      <th>designing</th>\n",
       "    </tr>\n",
       "  </thead>\n",
       "  <tbody>\n",
       "    <tr>\n",
       "      <th>1</th>\n",
       "      <td>1</td>\n",
       "      <td>2</td>\n",
       "      <td>2</td>\n",
       "      <td>1</td>\n",
       "      <td>1</td>\n",
       "    </tr>\n",
       "  </tbody>\n",
       "</table>\n",
       "</div>"
      ],
      "text/plain": [
       "   price  configurations  gaming   security  designing\n",
       "1      1               2        2         1          1"
      ]
     },
     "metadata": {},
     "output_type": "display_data"
    }
   ],
   "source": [
    "train_target = train_data['type_of_computer']\n",
    "train_predictors = train_data.drop('type_of_computer', axis = 1)\n",
    "\n",
    "print(\"Target dataset size:{}\".format(len(train_target)))\n",
    "display(train_target.head(5))\n",
    "\n",
    "print(\"\\nPredictor dataset size:{}\".format(len(train_predictors)))\n",
    "display(train_predictors.head(1))"
   ]
  },
  {
   "cell_type": "markdown",
   "metadata": {},
   "source": [
    "## Separating the target variable - test data"
   ]
  },
  {
   "cell_type": "code",
   "execution_count": 34,
   "metadata": {
    "collapsed": false,
    "scrolled": true
   },
   "outputs": [
    {
     "name": "stdout",
     "output_type": "stream",
     "text": [
      "Target dataset size:1\n"
     ]
    },
    {
     "data": {
      "text/plain": [
       "0    mac\n",
       "Name: type_of_computer, dtype: object"
      ]
     },
     "metadata": {},
     "output_type": "display_data"
    },
    {
     "name": "stdout",
     "output_type": "stream",
     "text": [
      "\n",
      "Predictor dataset size:1\n"
     ]
    },
    {
     "data": {
      "text/html": [
       "<div>\n",
       "<table border=\"1\" class=\"dataframe\">\n",
       "  <thead>\n",
       "    <tr style=\"text-align: right;\">\n",
       "      <th></th>\n",
       "      <th>Timestamp</th>\n",
       "      <th>name</th>\n",
       "      <th>why_nanodegree</th>\n",
       "      <th>something_interesting</th>\n",
       "      <th>price</th>\n",
       "      <th>configurations</th>\n",
       "      <th>gaming</th>\n",
       "      <th>security</th>\n",
       "      <th>designing</th>\n",
       "    </tr>\n",
       "  </thead>\n",
       "  <tbody>\n",
       "    <tr>\n",
       "      <th>0</th>\n",
       "      <td>2/10/2017 22:31:09</td>\n",
       "      <td>sdf</td>\n",
       "      <td>dg</td>\n",
       "      <td>sdg</td>\n",
       "      <td>1</td>\n",
       "      <td>1</td>\n",
       "      <td>2</td>\n",
       "      <td>2</td>\n",
       "      <td>1</td>\n",
       "    </tr>\n",
       "  </tbody>\n",
       "</table>\n",
       "</div>"
      ],
      "text/plain": [
       "            Timestamp name why_nanodegree something_interesting  price  \\\n",
       "0  2/10/2017 22:31:09  sdf             dg                   sdg      1   \n",
       "\n",
       "   configurations  gaming   security  designing  \n",
       "0               1        2         2          1  "
      ]
     },
     "metadata": {},
     "output_type": "display_data"
    }
   ],
   "source": [
    "test_target = test_data['type_of_computer']\n",
    "test_predictors = test_data.drop('type_of_computer', axis = 1)\n",
    "\n",
    "print(\"Target dataset size:{}\".format(len(test_target)))\n",
    "display(test_target.head(5))\n",
    "\n",
    "print(\"\\nPredictor dataset size:{}\".format(len(test_predictors)))\n",
    "display(test_predictors.head())"
   ]
  },
  {
   "cell_type": "markdown",
   "metadata": {},
   "source": [
    "## Building the Decision Tree Classifier "
   ]
  },
  {
   "cell_type": "code",
   "execution_count": 35,
   "metadata": {
    "collapsed": false
   },
   "outputs": [],
   "source": [
    "clf = tree.DecisionTreeClassifier()\n",
    "clf = clf.fit(train_predictors, train_target)"
   ]
  },
  {
   "cell_type": "markdown",
   "metadata": {},
   "source": [
    "## Retrieving test data"
   ]
  },
  {
   "cell_type": "code",
   "execution_count": 36,
   "metadata": {
    "collapsed": false
   },
   "outputs": [
    {
     "name": "stdout",
     "output_type": "stream",
     "text": [
      "\n",
      "Student test data:1\n"
     ]
    },
    {
     "data": {
      "text/html": [
       "<div>\n",
       "<table border=\"1\" class=\"dataframe\">\n",
       "  <thead>\n",
       "    <tr style=\"text-align: right;\">\n",
       "      <th></th>\n",
       "      <th>Timestamp</th>\n",
       "      <th>name</th>\n",
       "      <th>why_nanodegree</th>\n",
       "      <th>something_interesting</th>\n",
       "      <th>price</th>\n",
       "      <th>configurations</th>\n",
       "      <th>gaming</th>\n",
       "      <th>security</th>\n",
       "      <th>designing</th>\n",
       "    </tr>\n",
       "  </thead>\n",
       "  <tbody>\n",
       "    <tr>\n",
       "      <th>0</th>\n",
       "      <td>2/10/2017 22:31:09</td>\n",
       "      <td>sdf</td>\n",
       "      <td>dg</td>\n",
       "      <td>sdg</td>\n",
       "      <td>1</td>\n",
       "      <td>1</td>\n",
       "      <td>2</td>\n",
       "      <td>2</td>\n",
       "      <td>1</td>\n",
       "    </tr>\n",
       "  </tbody>\n",
       "</table>\n",
       "</div>"
      ],
      "text/plain": [
       "            Timestamp name why_nanodegree something_interesting  price  \\\n",
       "0  2/10/2017 22:31:09  sdf             dg                   sdg      1   \n",
       "\n",
       "   configurations  gaming   security  designing  \n",
       "0               1        2         2          1  "
      ]
     },
     "metadata": {},
     "output_type": "display_data"
    }
   ],
   "source": [
    "print(\"\\nStudent test data:{}\".format(len(test_predictors)))\n",
    "display(test_predictors.head(3))\n",
    "student_test_data_final = [test_predictors]"
   ]
  },
  {
   "cell_type": "markdown",
   "metadata": {},
   "source": [
    "## Making predictions "
   ]
  },
  {
   "cell_type": "code",
   "execution_count": 37,
   "metadata": {
    "collapsed": false,
    "scrolled": false
   },
   "outputs": [
    {
     "name": "stdout",
     "output_type": "stream",
     "text": [
      "Predicted type of student 1's computer: mac\n",
      "Predicted type of student 2's computer: mac\n",
      "Predicted type of student 3's computer: mac\n",
      " \n",
      "Actual type of student 1's computer: mac\n"
     ]
    }
   ],
   "source": [
    "student_test_data = [[2, 2, 2, 2, 2], # Student 1\n",
    "                     [1, 1, 1, 1, 1], # Student 2\n",
    "                     [2, 2, 2, 2,2]] # Student 3\n",
    "             \n",
    "\n",
    "\n",
    "for i, computer in enumerate(clf.predict(student_test_data)):\n",
    "    print \"Predicted type of student {}'s computer: {}\".format(i+1, computer)\n",
    "\n",
    "print \" \"\n",
    "\n",
    "for i, actual in enumerate((test_target)):\n",
    "    print \"Actual type of student {}'s computer: {}\".format(i+1, actual)"
   ]
  }
 ],
 "metadata": {
  "kernelspec": {
   "display_name": "Python 2",
   "language": "python",
   "name": "python2"
  },
  "language_info": {
   "codemirror_mode": {
    "name": "ipython",
    "version": 2
   },
   "file_extension": ".py",
   "mimetype": "text/x-python",
   "name": "python",
   "nbconvert_exporter": "python",
   "pygments_lexer": "ipython2",
   "version": "2.7.13"
  }
 },
 "nbformat": 4,
 "nbformat_minor": 2
}
