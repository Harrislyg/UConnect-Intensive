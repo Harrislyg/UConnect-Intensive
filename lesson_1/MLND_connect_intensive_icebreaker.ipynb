{
 "cells": [
  {
   "cell_type": "markdown",
   "metadata": {},
   "source": [
    "## Icebreaker: Using a decision tree to predict the type of computer a student owns."
   ]
  },
  {
   "cell_type": "markdown",
   "metadata": {},
   "source": [
    "## Importing libraries "
   ]
  },
  {
   "cell_type": "code",
   "execution_count": 23,
   "metadata": {
    "collapsed": false,
    "scrolled": false
   },
   "outputs": [],
   "source": [
    "from sklearn import tree\n",
    "import numpy as np\n",
    "import pandas as pd \n",
    "\n",
    "from IPython.display import display, Image"
   ]
  },
  {
   "cell_type": "markdown",
   "metadata": {},
   "source": [
    "## Importing dataset"
   ]
  },
  {
   "cell_type": "code",
   "execution_count": 24,
   "metadata": {
    "collapsed": false
   },
   "outputs": [
    {
     "name": "stdout",
     "output_type": "stream",
     "text": [
      "Number of students: 21\n"
     ]
    },
    {
     "data": {
      "text/html": [
       "<div>\n",
       "<table border=\"1\" class=\"dataframe\">\n",
       "  <thead>\n",
       "    <tr style=\"text-align: right;\">\n",
       "      <th></th>\n",
       "      <th>Timestamp</th>\n",
       "      <th>name</th>\n",
       "      <th>why_nanodegree</th>\n",
       "      <th>something_interesting</th>\n",
       "      <th>price</th>\n",
       "      <th>configurations</th>\n",
       "      <th>gaming</th>\n",
       "      <th>security</th>\n",
       "      <th>designing</th>\n",
       "      <th>type_of_computer</th>\n",
       "    </tr>\n",
       "  </thead>\n",
       "  <tbody>\n",
       "    <tr>\n",
       "      <th>0</th>\n",
       "      <td>2/11/2017 10:29:43</td>\n",
       "      <td>ganesh</td>\n",
       "      <td>want to obtain hands on experience</td>\n",
       "      <td>NaN</td>\n",
       "      <td>2</td>\n",
       "      <td>2</td>\n",
       "      <td>2</td>\n",
       "      <td>1</td>\n",
       "      <td>1</td>\n",
       "      <td>mac</td>\n",
       "    </tr>\n",
       "    <tr>\n",
       "      <th>1</th>\n",
       "      <td>2/11/2017 10:30:14</td>\n",
       "      <td>Brook</td>\n",
       "      <td>Learn to predictive analytics</td>\n",
       "      <td>Ethiopian</td>\n",
       "      <td>1</td>\n",
       "      <td>2</td>\n",
       "      <td>2</td>\n",
       "      <td>2</td>\n",
       "      <td>2</td>\n",
       "      <td>mac</td>\n",
       "    </tr>\n",
       "    <tr>\n",
       "      <th>2</th>\n",
       "      <td>2/11/2017 10:30:35</td>\n",
       "      <td>vamsi</td>\n",
       "      <td>very exciting area</td>\n",
       "      <td>NaN</td>\n",
       "      <td>2</td>\n",
       "      <td>2</td>\n",
       "      <td>2</td>\n",
       "      <td>2</td>\n",
       "      <td>1</td>\n",
       "      <td>pc</td>\n",
       "    </tr>\n",
       "    <tr>\n",
       "      <th>3</th>\n",
       "      <td>2/11/2017 10:30:59</td>\n",
       "      <td>Jon</td>\n",
       "      <td>Trying to make the jump into SW engineering</td>\n",
       "      <td>NaN</td>\n",
       "      <td>1</td>\n",
       "      <td>2</td>\n",
       "      <td>2</td>\n",
       "      <td>1</td>\n",
       "      <td>2</td>\n",
       "      <td>mac</td>\n",
       "    </tr>\n",
       "    <tr>\n",
       "      <th>4</th>\n",
       "      <td>2/11/2017 10:32:06</td>\n",
       "      <td>Aiman</td>\n",
       "      <td>To find a new job</td>\n",
       "      <td>He enjoys playing soccer</td>\n",
       "      <td>1</td>\n",
       "      <td>1</td>\n",
       "      <td>2</td>\n",
       "      <td>1</td>\n",
       "      <td>2</td>\n",
       "      <td>mac</td>\n",
       "    </tr>\n",
       "    <tr>\n",
       "      <th>5</th>\n",
       "      <td>2/11/2017 10:32:52</td>\n",
       "      <td>Liang</td>\n",
       "      <td>Nano degree is unique program the others</td>\n",
       "      <td>Machine learning is becoming more and more pow...</td>\n",
       "      <td>1</td>\n",
       "      <td>2</td>\n",
       "      <td>2</td>\n",
       "      <td>2</td>\n",
       "      <td>2</td>\n",
       "      <td>mac</td>\n",
       "    </tr>\n",
       "    <tr>\n",
       "      <th>6</th>\n",
       "      <td>2/11/2017 10:32:53</td>\n",
       "      <td>Goldy</td>\n",
       "      <td>Want to learn machine learning application in ...</td>\n",
       "      <td>I have 9 fishes and like to spend time with th...</td>\n",
       "      <td>1</td>\n",
       "      <td>2</td>\n",
       "      <td>2</td>\n",
       "      <td>1</td>\n",
       "      <td>2</td>\n",
       "      <td>mac</td>\n",
       "    </tr>\n",
       "    <tr>\n",
       "      <th>7</th>\n",
       "      <td>2/11/2017 10:32:57</td>\n",
       "      <td>Samip</td>\n",
       "      <td>Interest in finance. Catching up with the new ...</td>\n",
       "      <td>pursuing CFA (Chartered Financial Analyst) and...</td>\n",
       "      <td>2</td>\n",
       "      <td>2</td>\n",
       "      <td>2</td>\n",
       "      <td>2</td>\n",
       "      <td>2</td>\n",
       "      <td>mac</td>\n",
       "    </tr>\n",
       "    <tr>\n",
       "      <th>8</th>\n",
       "      <td>2/11/2017 10:33:09</td>\n",
       "      <td>Karishma</td>\n",
       "      <td>Explore Machine Learning</td>\n",
       "      <td>Like to learn new things</td>\n",
       "      <td>2</td>\n",
       "      <td>2</td>\n",
       "      <td>2</td>\n",
       "      <td>2</td>\n",
       "      <td>2</td>\n",
       "      <td>mac</td>\n",
       "    </tr>\n",
       "    <tr>\n",
       "      <th>9</th>\n",
       "      <td>2/11/2017 10:33:53</td>\n",
       "      <td>SHAILESH</td>\n",
       "      <td>COLLABORATE</td>\n",
       "      <td>hiking, music</td>\n",
       "      <td>2</td>\n",
       "      <td>1</td>\n",
       "      <td>2</td>\n",
       "      <td>2</td>\n",
       "      <td>2</td>\n",
       "      <td>pc</td>\n",
       "    </tr>\n",
       "  </tbody>\n",
       "</table>\n",
       "</div>"
      ],
      "text/plain": [
       "            Timestamp      name  \\\n",
       "0  2/11/2017 10:29:43   ganesh    \n",
       "1  2/11/2017 10:30:14     Brook   \n",
       "2  2/11/2017 10:30:35     vamsi   \n",
       "3  2/11/2017 10:30:59       Jon   \n",
       "4  2/11/2017 10:32:06     Aiman   \n",
       "5  2/11/2017 10:32:52     Liang   \n",
       "6  2/11/2017 10:32:53     Goldy   \n",
       "7  2/11/2017 10:32:57     Samip   \n",
       "8  2/11/2017 10:33:09  Karishma   \n",
       "9  2/11/2017 10:33:53  SHAILESH   \n",
       "\n",
       "                                      why_nanodegree  \\\n",
       "0                 want to obtain hands on experience   \n",
       "1                      Learn to predictive analytics   \n",
       "2                                 very exciting area   \n",
       "3        Trying to make the jump into SW engineering   \n",
       "4                                  To find a new job   \n",
       "5           Nano degree is unique program the others   \n",
       "6  Want to learn machine learning application in ...   \n",
       "7  Interest in finance. Catching up with the new ...   \n",
       "8                           Explore Machine Learning   \n",
       "9                                        COLLABORATE   \n",
       "\n",
       "                               something_interesting  price  configurations  \\\n",
       "0                                                NaN      2               2   \n",
       "1                                          Ethiopian      1               2   \n",
       "2                                                NaN      2               2   \n",
       "3                                                NaN      1               2   \n",
       "4                           He enjoys playing soccer      1               1   \n",
       "5  Machine learning is becoming more and more pow...      1               2   \n",
       "6  I have 9 fishes and like to spend time with th...      1               2   \n",
       "7  pursuing CFA (Chartered Financial Analyst) and...      2               2   \n",
       "8                           Like to learn new things      2               2   \n",
       "9                                      hiking, music      2               1   \n",
       "\n",
       "   gaming   security  designing type_of_computer  \n",
       "0        2         1          1              mac  \n",
       "1        2         2          2              mac  \n",
       "2        2         2          1               pc  \n",
       "3        2         1          2              mac  \n",
       "4        2         1          2              mac  \n",
       "5        2         2          2              mac  \n",
       "6        2         1          2              mac  \n",
       "7        2         2          2              mac  \n",
       "8        2         2          2              mac  \n",
       "9        2         2          2               pc  "
      ]
     },
     "metadata": {},
     "output_type": "display_data"
    }
   ],
   "source": [
    "\n",
    "in_file = 'students.csv'\n",
    "students = pd.read_csv(in_file)\n",
    "\n",
    "print(\"Number of students: {}\".format(len(students)))\n",
    "\n",
    "display(students.head(10))\n"
   ]
  },
  {
   "cell_type": "markdown",
   "metadata": {},
   "source": [
    "## Separating test dataset"
   ]
  },
  {
   "cell_type": "code",
   "execution_count": 25,
   "metadata": {
    "collapsed": false
   },
   "outputs": [
    {
     "name": "stdout",
     "output_type": "stream",
     "text": [
      "Training dataset size:19\n"
     ]
    },
    {
     "data": {
      "text/html": [
       "<div>\n",
       "<table border=\"1\" class=\"dataframe\">\n",
       "  <thead>\n",
       "    <tr style=\"text-align: right;\">\n",
       "      <th></th>\n",
       "      <th>Timestamp</th>\n",
       "      <th>name</th>\n",
       "      <th>why_nanodegree</th>\n",
       "      <th>something_interesting</th>\n",
       "      <th>price</th>\n",
       "      <th>configurations</th>\n",
       "      <th>gaming</th>\n",
       "      <th>security</th>\n",
       "      <th>designing</th>\n",
       "      <th>type_of_computer</th>\n",
       "    </tr>\n",
       "  </thead>\n",
       "  <tbody>\n",
       "    <tr>\n",
       "      <th>0</th>\n",
       "      <td>2/11/2017 10:29:43</td>\n",
       "      <td>ganesh</td>\n",
       "      <td>want to obtain hands on experience</td>\n",
       "      <td>NaN</td>\n",
       "      <td>2</td>\n",
       "      <td>2</td>\n",
       "      <td>2</td>\n",
       "      <td>1</td>\n",
       "      <td>1</td>\n",
       "      <td>mac</td>\n",
       "    </tr>\n",
       "    <tr>\n",
       "      <th>3</th>\n",
       "      <td>2/11/2017 10:30:59</td>\n",
       "      <td>Jon</td>\n",
       "      <td>Trying to make the jump into SW engineering</td>\n",
       "      <td>NaN</td>\n",
       "      <td>1</td>\n",
       "      <td>2</td>\n",
       "      <td>2</td>\n",
       "      <td>1</td>\n",
       "      <td>2</td>\n",
       "      <td>mac</td>\n",
       "    </tr>\n",
       "    <tr>\n",
       "      <th>4</th>\n",
       "      <td>2/11/2017 10:32:06</td>\n",
       "      <td>Aiman</td>\n",
       "      <td>To find a new job</td>\n",
       "      <td>He enjoys playing soccer</td>\n",
       "      <td>1</td>\n",
       "      <td>1</td>\n",
       "      <td>2</td>\n",
       "      <td>1</td>\n",
       "      <td>2</td>\n",
       "      <td>mac</td>\n",
       "    </tr>\n",
       "    <tr>\n",
       "      <th>5</th>\n",
       "      <td>2/11/2017 10:32:52</td>\n",
       "      <td>Liang</td>\n",
       "      <td>Nano degree is unique program the others</td>\n",
       "      <td>Machine learning is becoming more and more pow...</td>\n",
       "      <td>1</td>\n",
       "      <td>2</td>\n",
       "      <td>2</td>\n",
       "      <td>2</td>\n",
       "      <td>2</td>\n",
       "      <td>mac</td>\n",
       "    </tr>\n",
       "    <tr>\n",
       "      <th>6</th>\n",
       "      <td>2/11/2017 10:32:53</td>\n",
       "      <td>Goldy</td>\n",
       "      <td>Want to learn machine learning application in ...</td>\n",
       "      <td>I have 9 fishes and like to spend time with th...</td>\n",
       "      <td>1</td>\n",
       "      <td>2</td>\n",
       "      <td>2</td>\n",
       "      <td>1</td>\n",
       "      <td>2</td>\n",
       "      <td>mac</td>\n",
       "    </tr>\n",
       "  </tbody>\n",
       "</table>\n",
       "</div>"
      ],
      "text/plain": [
       "            Timestamp     name  \\\n",
       "0  2/11/2017 10:29:43  ganesh    \n",
       "3  2/11/2017 10:30:59      Jon   \n",
       "4  2/11/2017 10:32:06    Aiman   \n",
       "5  2/11/2017 10:32:52    Liang   \n",
       "6  2/11/2017 10:32:53    Goldy   \n",
       "\n",
       "                                      why_nanodegree  \\\n",
       "0                 want to obtain hands on experience   \n",
       "3        Trying to make the jump into SW engineering   \n",
       "4                                  To find a new job   \n",
       "5           Nano degree is unique program the others   \n",
       "6  Want to learn machine learning application in ...   \n",
       "\n",
       "                               something_interesting  price  configurations  \\\n",
       "0                                                NaN      2               2   \n",
       "3                                                NaN      1               2   \n",
       "4                           He enjoys playing soccer      1               1   \n",
       "5  Machine learning is becoming more and more pow...      1               2   \n",
       "6  I have 9 fishes and like to spend time with th...      1               2   \n",
       "\n",
       "   gaming   security  designing type_of_computer  \n",
       "0        2         1          1              mac  \n",
       "3        2         1          2              mac  \n",
       "4        2         1          2              mac  \n",
       "5        2         2          2              mac  \n",
       "6        2         1          2              mac  "
      ]
     },
     "metadata": {},
     "output_type": "display_data"
    },
    {
     "name": "stdout",
     "output_type": "stream",
     "text": [
      "Testing dataset size:2\n"
     ]
    },
    {
     "data": {
      "text/html": [
       "<div>\n",
       "<table border=\"1\" class=\"dataframe\">\n",
       "  <thead>\n",
       "    <tr style=\"text-align: right;\">\n",
       "      <th></th>\n",
       "      <th>Timestamp</th>\n",
       "      <th>name</th>\n",
       "      <th>why_nanodegree</th>\n",
       "      <th>something_interesting</th>\n",
       "      <th>price</th>\n",
       "      <th>configurations</th>\n",
       "      <th>gaming</th>\n",
       "      <th>security</th>\n",
       "      <th>designing</th>\n",
       "      <th>type_of_computer</th>\n",
       "    </tr>\n",
       "  </thead>\n",
       "  <tbody>\n",
       "    <tr>\n",
       "      <th>1</th>\n",
       "      <td>2/11/2017 10:30:14</td>\n",
       "      <td>Brook</td>\n",
       "      <td>Learn to predictive analytics</td>\n",
       "      <td>Ethiopian</td>\n",
       "      <td>1</td>\n",
       "      <td>2</td>\n",
       "      <td>2</td>\n",
       "      <td>2</td>\n",
       "      <td>2</td>\n",
       "      <td>mac</td>\n",
       "    </tr>\n",
       "    <tr>\n",
       "      <th>2</th>\n",
       "      <td>2/11/2017 10:30:35</td>\n",
       "      <td>vamsi</td>\n",
       "      <td>very exciting area</td>\n",
       "      <td>NaN</td>\n",
       "      <td>2</td>\n",
       "      <td>2</td>\n",
       "      <td>2</td>\n",
       "      <td>2</td>\n",
       "      <td>1</td>\n",
       "      <td>pc</td>\n",
       "    </tr>\n",
       "  </tbody>\n",
       "</table>\n",
       "</div>"
      ],
      "text/plain": [
       "            Timestamp   name                 why_nanodegree  \\\n",
       "1  2/11/2017 10:30:14  Brook  Learn to predictive analytics   \n",
       "2  2/11/2017 10:30:35  vamsi             very exciting area   \n",
       "\n",
       "  something_interesting  price  configurations  gaming   security  designing  \\\n",
       "1             Ethiopian      1               2        2         2          2   \n",
       "2                   NaN      2               2        2         2          1   \n",
       "\n",
       "  type_of_computer  \n",
       "1              mac  \n",
       "2               pc  "
      ]
     },
     "metadata": {},
     "output_type": "display_data"
    }
   ],
   "source": [
    "train_data = students[(students.name != 'vamsi') & (students.name != 'Brook')]\n",
    "test_data = students[(students.name == 'vamsi') | (students.name == 'Brook')]\n",
    "\n",
    "print(\"Training dataset size:{}\".format(len(train_data)))\n",
    "display(train_data.head())\n",
    "\n",
    "print(\"Testing dataset size:{}\".format(len(test_data)))\n",
    "display(test_data.head())"
   ]
  },
  {
   "cell_type": "markdown",
   "metadata": {},
   "source": [
    "## Remove columns"
   ]
  },
  {
   "cell_type": "code",
   "execution_count": 26,
   "metadata": {
    "collapsed": false
   },
   "outputs": [
    {
     "data": {
      "text/html": [
       "<div>\n",
       "<table border=\"1\" class=\"dataframe\">\n",
       "  <thead>\n",
       "    <tr style=\"text-align: right;\">\n",
       "      <th></th>\n",
       "      <th>price</th>\n",
       "      <th>configurations</th>\n",
       "      <th>gaming</th>\n",
       "      <th>security</th>\n",
       "      <th>designing</th>\n",
       "      <th>type_of_computer</th>\n",
       "    </tr>\n",
       "  </thead>\n",
       "  <tbody>\n",
       "    <tr>\n",
       "      <th>0</th>\n",
       "      <td>2</td>\n",
       "      <td>2</td>\n",
       "      <td>2</td>\n",
       "      <td>1</td>\n",
       "      <td>1</td>\n",
       "      <td>mac</td>\n",
       "    </tr>\n",
       "    <tr>\n",
       "      <th>3</th>\n",
       "      <td>1</td>\n",
       "      <td>2</td>\n",
       "      <td>2</td>\n",
       "      <td>1</td>\n",
       "      <td>2</td>\n",
       "      <td>mac</td>\n",
       "    </tr>\n",
       "    <tr>\n",
       "      <th>4</th>\n",
       "      <td>1</td>\n",
       "      <td>1</td>\n",
       "      <td>2</td>\n",
       "      <td>1</td>\n",
       "      <td>2</td>\n",
       "      <td>mac</td>\n",
       "    </tr>\n",
       "    <tr>\n",
       "      <th>5</th>\n",
       "      <td>1</td>\n",
       "      <td>2</td>\n",
       "      <td>2</td>\n",
       "      <td>2</td>\n",
       "      <td>2</td>\n",
       "      <td>mac</td>\n",
       "    </tr>\n",
       "    <tr>\n",
       "      <th>6</th>\n",
       "      <td>1</td>\n",
       "      <td>2</td>\n",
       "      <td>2</td>\n",
       "      <td>1</td>\n",
       "      <td>2</td>\n",
       "      <td>mac</td>\n",
       "    </tr>\n",
       "  </tbody>\n",
       "</table>\n",
       "</div>"
      ],
      "text/plain": [
       "   price  configurations  gaming   security  designing type_of_computer\n",
       "0      2               2        2         1          1              mac\n",
       "3      1               2        2         1          2              mac\n",
       "4      1               1        2         1          2              mac\n",
       "5      1               2        2         2          2              mac\n",
       "6      1               2        2         1          2              mac"
      ]
     },
     "metadata": {},
     "output_type": "display_data"
    }
   ],
   "source": [
    "\n",
    "train_data = train_data.drop(['Timestamp', 'name','why_nanodegree','something_interesting'], axis=1)\n",
    "test_data = test_data.drop(['Timestamp', 'name','why_nanodegree','something_interesting'], axis=1)\n",
    "\n",
    "display(train_data.head(5))\n"
   ]
  },
  {
   "cell_type": "markdown",
   "metadata": {},
   "source": [
    "## Separating the target variable - training data"
   ]
  },
  {
   "cell_type": "code",
   "execution_count": 27,
   "metadata": {
    "collapsed": false,
    "scrolled": true
   },
   "outputs": [
    {
     "name": "stdout",
     "output_type": "stream",
     "text": [
      "Target dataset size:19\n"
     ]
    },
    {
     "data": {
      "text/plain": [
       "0    mac\n",
       "3    mac\n",
       "4    mac\n",
       "5    mac\n",
       "6    mac\n",
       "Name: type_of_computer, dtype: object"
      ]
     },
     "metadata": {},
     "output_type": "display_data"
    },
    {
     "name": "stdout",
     "output_type": "stream",
     "text": [
      "\n",
      "Predictor dataset size:19\n"
     ]
    },
    {
     "data": {
      "text/html": [
       "<div>\n",
       "<table border=\"1\" class=\"dataframe\">\n",
       "  <thead>\n",
       "    <tr style=\"text-align: right;\">\n",
       "      <th></th>\n",
       "      <th>price</th>\n",
       "      <th>configurations</th>\n",
       "      <th>gaming</th>\n",
       "      <th>security</th>\n",
       "      <th>designing</th>\n",
       "    </tr>\n",
       "  </thead>\n",
       "  <tbody>\n",
       "    <tr>\n",
       "      <th>0</th>\n",
       "      <td>2</td>\n",
       "      <td>2</td>\n",
       "      <td>2</td>\n",
       "      <td>1</td>\n",
       "      <td>1</td>\n",
       "    </tr>\n",
       "  </tbody>\n",
       "</table>\n",
       "</div>"
      ],
      "text/plain": [
       "   price  configurations  gaming   security  designing\n",
       "0      2               2        2         1          1"
      ]
     },
     "metadata": {},
     "output_type": "display_data"
    }
   ],
   "source": [
    "train_target = train_data['type_of_computer']\n",
    "train_predictors = train_data.drop('type_of_computer', axis = 1)\n",
    "\n",
    "print(\"Target dataset size:{}\".format(len(train_target)))\n",
    "display(train_target.head(5))\n",
    "\n",
    "print(\"\\nPredictor dataset size:{}\".format(len(train_predictors)))\n",
    "display(train_predictors.head(1))"
   ]
  },
  {
   "cell_type": "markdown",
   "metadata": {},
   "source": [
    "## Separating the target variable - test data"
   ]
  },
  {
   "cell_type": "code",
   "execution_count": 28,
   "metadata": {
    "collapsed": false,
    "scrolled": true
   },
   "outputs": [
    {
     "name": "stdout",
     "output_type": "stream",
     "text": [
      "Target dataset size:2\n"
     ]
    },
    {
     "data": {
      "text/plain": [
       "1    mac\n",
       "2     pc\n",
       "Name: type_of_computer, dtype: object"
      ]
     },
     "metadata": {},
     "output_type": "display_data"
    },
    {
     "name": "stdout",
     "output_type": "stream",
     "text": [
      "\n",
      "Predictor dataset size:2\n"
     ]
    },
    {
     "data": {
      "text/html": [
       "<div>\n",
       "<table border=\"1\" class=\"dataframe\">\n",
       "  <thead>\n",
       "    <tr style=\"text-align: right;\">\n",
       "      <th></th>\n",
       "      <th>price</th>\n",
       "      <th>configurations</th>\n",
       "      <th>gaming</th>\n",
       "      <th>security</th>\n",
       "      <th>designing</th>\n",
       "    </tr>\n",
       "  </thead>\n",
       "  <tbody>\n",
       "    <tr>\n",
       "      <th>1</th>\n",
       "      <td>1</td>\n",
       "      <td>2</td>\n",
       "      <td>2</td>\n",
       "      <td>2</td>\n",
       "      <td>2</td>\n",
       "    </tr>\n",
       "    <tr>\n",
       "      <th>2</th>\n",
       "      <td>2</td>\n",
       "      <td>2</td>\n",
       "      <td>2</td>\n",
       "      <td>2</td>\n",
       "      <td>1</td>\n",
       "    </tr>\n",
       "  </tbody>\n",
       "</table>\n",
       "</div>"
      ],
      "text/plain": [
       "   price  configurations  gaming   security  designing\n",
       "1      1               2        2         2          2\n",
       "2      2               2        2         2          1"
      ]
     },
     "metadata": {},
     "output_type": "display_data"
    }
   ],
   "source": [
    "test_target = test_data['type_of_computer']\n",
    "test_predictors = test_data.drop('type_of_computer', axis = 1)\n",
    "\n",
    "print(\"Target dataset size:{}\".format(len(test_target)))\n",
    "display(test_target.head(5))\n",
    "\n",
    "print(\"\\nPredictor dataset size:{}\".format(len(test_predictors)))\n",
    "display(test_predictors.head())"
   ]
  },
  {
   "cell_type": "markdown",
   "metadata": {},
   "source": [
    "## Building the Decision Tree Classifier "
   ]
  },
  {
   "cell_type": "code",
   "execution_count": 29,
   "metadata": {
    "collapsed": false
   },
   "outputs": [],
   "source": [
    "clf = tree.DecisionTreeClassifier()\n",
    "clf = clf.fit(train_predictors, train_target)\n"
   ]
  },
  {
   "cell_type": "markdown",
   "metadata": {},
   "source": [
    "## Retrieving test data"
   ]
  },
  {
   "cell_type": "code",
   "execution_count": 30,
   "metadata": {
    "collapsed": false
   },
   "outputs": [
    {
     "name": "stdout",
     "output_type": "stream",
     "text": [
      "\n",
      "Student test data:2\n"
     ]
    },
    {
     "data": {
      "text/html": [
       "<div>\n",
       "<table border=\"1\" class=\"dataframe\">\n",
       "  <thead>\n",
       "    <tr style=\"text-align: right;\">\n",
       "      <th></th>\n",
       "      <th>price</th>\n",
       "      <th>configurations</th>\n",
       "      <th>gaming</th>\n",
       "      <th>security</th>\n",
       "      <th>designing</th>\n",
       "    </tr>\n",
       "  </thead>\n",
       "  <tbody>\n",
       "    <tr>\n",
       "      <th>1</th>\n",
       "      <td>1</td>\n",
       "      <td>2</td>\n",
       "      <td>2</td>\n",
       "      <td>2</td>\n",
       "      <td>2</td>\n",
       "    </tr>\n",
       "    <tr>\n",
       "      <th>2</th>\n",
       "      <td>2</td>\n",
       "      <td>2</td>\n",
       "      <td>2</td>\n",
       "      <td>2</td>\n",
       "      <td>1</td>\n",
       "    </tr>\n",
       "  </tbody>\n",
       "</table>\n",
       "</div>"
      ],
      "text/plain": [
       "   price  configurations  gaming   security  designing\n",
       "1      1               2        2         2          2\n",
       "2      2               2        2         2          1"
      ]
     },
     "metadata": {},
     "output_type": "display_data"
    },
    {
     "name": "stdout",
     "output_type": "stream",
     "text": [
      "[   price  configurations  gaming   security  designing\n",
      "1      1               2        2         2          2\n",
      "2      2               2        2         2          1]\n"
     ]
    }
   ],
   "source": [
    "print(\"\\nStudent test data:{}\".format(len(test_predictors)))\n",
    "display(test_predictors.head(3))\n",
    "student_test_data_final = [test_predictors]\n",
    "print(student_test_data_final)"
   ]
  },
  {
   "cell_type": "markdown",
   "metadata": {},
   "source": [
    "## Making predictions "
   ]
  },
  {
   "cell_type": "code",
   "execution_count": 32,
   "metadata": {
    "collapsed": false,
    "scrolled": false
   },
   "outputs": [
    {
     "name": "stdout",
     "output_type": "stream",
     "text": [
      "Predicted type of student 1's computer: mac\n",
      "Predicted type of student 2's computer: mac\n",
      " \n",
      "Actual type of student 1's computer: mac\n",
      "Actual type of student 2's computer: pc\n"
     ]
    }
   ],
   "source": [
    "student_test_data = [[2, 2, 2, 2, 2], # Student 1\n",
    "                     [1, 1, 1, 1, 1]] # Student 2\n",
    "             \n",
    "\n",
    "\n",
    "for i, computer in enumerate(clf.predict(test_predictors)):\n",
    "    print \"Predicted type of student {}'s computer: {}\".format(i+1, computer)\n",
    "\n",
    "print \" \"\n",
    "\n",
    "for i, actual in enumerate((test_target)):\n",
    "    print \"Actual type of student {}'s computer: {}\".format(i+1, actual)"
   ]
  },
  {
   "cell_type": "code",
   "execution_count": null,
   "metadata": {
    "collapsed": true
   },
   "outputs": [],
   "source": []
  }
 ],
 "metadata": {
  "anaconda-cloud": {},
  "kernelspec": {
   "display_name": "Python [default]",
   "language": "python",
   "name": "python2"
  },
  "language_info": {
   "codemirror_mode": {
    "name": "ipython",
    "version": 2
   },
   "file_extension": ".py",
   "mimetype": "text/x-python",
   "name": "python",
   "nbconvert_exporter": "python",
   "pygments_lexer": "ipython2",
   "version": "2.7.13"
  }
 },
 "nbformat": 4,
 "nbformat_minor": 2
}
