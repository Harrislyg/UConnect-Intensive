{
 "cells": [
  {
   "cell_type": "markdown",
   "metadata": {},
   "source": [
    "## Icebreaker: Using a decision tree to predict the type of computer a student owns."
   ]
  },
  {
   "cell_type": "markdown",
   "metadata": {},
   "source": [
    "## Importing libraries "
   ]
  },
  {
   "cell_type": "code",
   "execution_count": null,
   "metadata": {
    "collapsed": false,
    "scrolled": false
   },
   "outputs": [],
   "source": [
    "from sklearn import tree\n",
    "import numpy as np\n",
    "import pandas as pd \n",
    "\n",
    "from IPython.display import display, Image"
   ]
  },
  {
   "cell_type": "markdown",
   "metadata": {},
   "source": [
    "## Importing dataset"
   ]
  },
  {
   "cell_type": "code",
   "execution_count": null,
   "metadata": {
    "collapsed": false
   },
   "outputs": [],
   "source": [
    "\n",
    "in_file = 'students.csv'\n",
    "students = pd.read_csv(in_file)\n",
    "\n",
    "print(\"Number of students: {}\".format(len(students)))\n",
    "\n",
    "display(students.head(5))\n"
   ]
  },
  {
   "cell_type": "markdown",
   "metadata": {},
   "source": [
    "## Separating test dataset"
   ]
  },
  {
   "cell_type": "code",
   "execution_count": null,
   "metadata": {
    "collapsed": false
   },
   "outputs": [],
   "source": [
    "train_data = students[(students.name != 'ryan') & (students.name != 'tom') & (students.name != 'sara')]\n",
    "test_data = students[(students.name == 'ryan') | (students.name == 'tom') | (students.name == 'sara')]\n",
    "\n",
    "print(\"Training dataset size:{}\".format(len(train_data)))\n",
    "display(train_data.head(1))\n",
    "\n",
    "print(\"Testing dataset size:{}\".format(len(test_data)))\n",
    "display(test_data.head(1))"
   ]
  },
  {
   "cell_type": "markdown",
   "metadata": {},
   "source": [
    "## Remove columns"
   ]
  },
  {
   "cell_type": "code",
   "execution_count": null,
   "metadata": {
    "collapsed": false
   },
   "outputs": [],
   "source": [
    "\n",
    "train_data = train_data.drop(['Timestamp', 'name','why_nanodegree','something_interesting'], axis=1)\n",
    "\n",
    "display(train_data.head(5))\n"
   ]
  },
  {
   "cell_type": "markdown",
   "metadata": {},
   "source": [
    "## Separating the target variable - training data"
   ]
  },
  {
   "cell_type": "code",
   "execution_count": null,
   "metadata": {
    "collapsed": false,
    "scrolled": true
   },
   "outputs": [],
   "source": [
    "train_target = train_data['type_of_computer']\n",
    "train_predictors = train_data.drop('type_of_computer', axis = 1)\n",
    "\n",
    "print(\"Target dataset size:{}\".format(len(train_target)))\n",
    "display(train_target.head(5))\n",
    "\n",
    "print(\"\\nPredictor dataset size:{}\".format(len(train_predictors)))\n",
    "display(train_predictors.head(1))"
   ]
  },
  {
   "cell_type": "markdown",
   "metadata": {},
   "source": [
    "## Separating the target variable - test data"
   ]
  },
  {
   "cell_type": "code",
   "execution_count": null,
   "metadata": {
    "collapsed": false,
    "scrolled": true
   },
   "outputs": [],
   "source": [
    "test_target = test_data['type_of_computer']\n",
    "test_predictors = test_data.drop('type_of_computer', axis = 1)\n",
    "\n",
    "print(\"Target dataset size:{}\".format(len(test_target)))\n",
    "display(test_target.head(5))\n",
    "\n",
    "print(\"\\nPredictor dataset size:{}\".format(len(test_predictors)))\n",
    "display(test_predictors.head())"
   ]
  },
  {
   "cell_type": "markdown",
   "metadata": {},
   "source": [
    "## Building the Decision Tree Classifier "
   ]
  },
  {
   "cell_type": "code",
   "execution_count": null,
   "metadata": {
    "collapsed": false
   },
   "outputs": [],
   "source": [
    "clf = tree.DecisionTreeClassifier()\n",
    "clf = clf.fit(train_predictors, train_target)\n"
   ]
  },
  {
   "cell_type": "markdown",
   "metadata": {},
   "source": [
    "## Retrieving test data"
   ]
  },
  {
   "cell_type": "code",
   "execution_count": null,
   "metadata": {
    "collapsed": false
   },
   "outputs": [],
   "source": [
    "print(\"\\nStudent test data:{}\".format(len(test_predictors)))\n",
    "display(test_predictors.head(3))\n",
    "student_test_data_final = [test_predictors]"
   ]
  },
  {
   "cell_type": "markdown",
   "metadata": {},
   "source": [
    "## Making predictions "
   ]
  },
  {
   "cell_type": "code",
   "execution_count": null,
   "metadata": {
    "collapsed": false,
    "scrolled": false
   },
   "outputs": [],
   "source": [
    "student_test_data = [[2, 2, 2, 2, 2], # Student 1\n",
    "                     [1, 1, 1, 1, 1], # Student 2\n",
    "                     [2, 2, 2, 2,2]] # Student 3\n",
    "             \n",
    "\n",
    "\n",
    "for i, computer in enumerate(clf.predict(student_test_data)):\n",
    "    print \"Predicted type of student {}'s computer: {}\".format(i+1, computer)\n",
    "\n",
    "print \" \"\n",
    "\n",
    "for i, actual in enumerate((test_target)):\n",
    "    print \"Actual type of student {}'s computer: {}\".format(i+1, actual)"
   ]
  }
 ],
 "metadata": {
  "kernelspec": {
   "display_name": "Python [default]",
   "language": "python",
   "name": "python2"
  },
  "language_info": {
   "codemirror_mode": {
    "name": "ipython",
    "version": 2
   },
   "file_extension": ".py",
   "mimetype": "text/x-python",
   "name": "python",
   "nbconvert_exporter": "python",
   "pygments_lexer": "ipython2",
   "version": "2.7.13"
  }
 },
 "nbformat": 4,
 "nbformat_minor": 2
}
